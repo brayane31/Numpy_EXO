{
 "cells": [
  {
   "cell_type": "code",
   "execution_count": 3,
   "id": "aa6445e2-1542-433c-95f3-25c36e0bdd9d",
   "metadata": {},
   "outputs": [],
   "source": [
    "import numpy as np"
   ]
  },
  {
   "cell_type": "markdown",
   "id": "d027c203-b391-446e-b4f1-f4818b47b683",
   "metadata": {},
   "source": [
    "Exercice 1 : les constructeurs"
   ]
  },
  {
   "cell_type": "code",
   "execution_count": 27,
   "id": "85c66d3d-01f8-4109-9aa5-5e3bcc1df1f6",
   "metadata": {
    "scrolled": true
   },
   "outputs": [
    {
     "name": "stdout",
     "output_type": "stream",
     "text": [
      "[1 5 7 8]\n"
     ]
    }
   ],
   "source": [
    "1#Constructeur un tableau numpy qui contient les éléments suivants : 1,5,7,8\n",
    "T = np.array([1,5,7,8])\n",
    "print(T)"
   ]
  },
  {
   "cell_type": "code",
   "execution_count": 28,
   "id": "887c8f51-56b5-41fe-8a22-1447476c5b41",
   "metadata": {
    "scrolled": true
   },
   "outputs": [
    {
     "name": "stdout",
     "output_type": "stream",
     "text": [
      "[1 2 3 4 5 6 7 8 9]\n"
     ]
    }
   ],
   "source": [
    "2#Constructeur un tableau numpy qui contient les éléments suivants :1,2,3,4,5,6,7,8,9\n",
    "T1 = np.array([1,2,3,4,5,6,7,8,9])\n",
    "print(T1)"
   ]
  },
  {
   "cell_type": "code",
   "execution_count": 29,
   "id": "26243637-1890-4f24-9231-8370bc7f6774",
   "metadata": {
    "scrolled": true
   },
   "outputs": [
    {
     "name": "stdout",
     "output_type": "stream",
     "text": [
      "[0. 0. 0. 0. 0. 0. 0. 0. 0. 0.]\n"
     ]
    }
   ],
   "source": [
    "3#Créer un tableau de 10 éléments rempli de 0\n",
    "T2 = np.zeros(10)\n",
    "print(T2)"
   ]
  },
  {
   "cell_type": "code",
   "execution_count": 30,
   "id": "3b63e320-4636-4825-9fd2-1ab96e768fea",
   "metadata": {
    "scrolled": true
   },
   "outputs": [
    {
     "name": "stdout",
     "output_type": "stream",
     "text": [
      "[[0. 0. 0. 0. 0.]\n",
      " [0. 0. 0. 0. 0.]]\n"
     ]
    }
   ],
   "source": [
    "4#Créer un tableau de 2 lignes 5 colonnes rempli de 0\n",
    "T3 = np.zeros((2, 5))\n",
    "print(T3)"
   ]
  },
  {
   "cell_type": "code",
   "execution_count": 31,
   "id": "ef95eaed-9dd4-4beb-8596-c54b89a08cda",
   "metadata": {
    "scrolled": true
   },
   "outputs": [
    {
     "name": "stdout",
     "output_type": "stream",
     "text": [
      "[1. 1. 1. 1. 1. 1. 1. 1. 1. 1.]\n"
     ]
    }
   ],
   "source": [
    "5#Créer un tableau de 10 éléments rempli de 1\n",
    "T4 = np.ones(10)\n",
    "print(T4)"
   ]
  },
  {
   "cell_type": "code",
   "execution_count": 32,
   "id": "e59dedbf-fa90-42fd-be88-9f7906cc0511",
   "metadata": {
    "scrolled": true
   },
   "outputs": [
    {
     "name": "stdout",
     "output_type": "stream",
     "text": [
      "[[1. 1. 1. 1. 1.]\n",
      " [1. 1. 1. 1. 1.]]\n"
     ]
    }
   ],
   "source": [
    "6#Créer un tableau de 2 lignes 5 colonnes rempli de 1\n",
    "T5 = np.ones((2, 5))\n",
    "print(T5)"
   ]
  },
  {
   "cell_type": "code",
   "execution_count": 33,
   "id": "97a74ca1-ea47-4ecd-9f95-1c09f1f7a4b0",
   "metadata": {
    "scrolled": true
   },
   "outputs": [
    {
     "name": "stdout",
     "output_type": "stream",
     "text": [
      "[8.5 8.5 8.5 8.5 8.5 8.5 8.5 8.5 8.5 8.5]\n"
     ]
    }
   ],
   "source": [
    "7#Créer un tableau de 10 éléments rempli 8.5\n",
    "T6 = np.full(10, 8.5)\n",
    "print(T6)"
   ]
  },
  {
   "cell_type": "code",
   "execution_count": 34,
   "id": "4124aefa-ee5e-4fc0-b64b-d31ad820adfa",
   "metadata": {
    "scrolled": true
   },
   "outputs": [
    {
     "name": "stdout",
     "output_type": "stream",
     "text": [
      "[1 2 3 4 5 6 7 8 9]\n"
     ]
    }
   ],
   "source": [
    "8#Créer un tableau de série d'entiers successifs allant de 1 à 9 inclus\n",
    "T7= np.arange(1, 10)\n",
    "print(T7)"
   ]
  },
  {
   "cell_type": "code",
   "execution_count": 35,
   "id": "8536184e-81f8-4f88-89e6-a9a6971a6213",
   "metadata": {
    "scrolled": true
   },
   "outputs": [
    {
     "name": "stdout",
     "output_type": "stream",
     "text": [
      "[[1 2 3]\n",
      " [4 5 6]\n",
      " [7 8 9]]\n"
     ]
    }
   ],
   "source": [
    "9#Créer un tableau de 3 lignes et 3 colonnes rempli de série d'entiers successifs allant de 1 à 9 inclus\n",
    "tableau= np.arange(1, 10)\n",
    "T8=tableau.reshape(3, 3)\n",
    "print(T8)"
   ]
  },
  {
   "cell_type": "code",
   "execution_count": 37,
   "id": "b6a9abd0-1405-4ef8-a61d-4b5cdcc2ae5a",
   "metadata": {
    "scrolled": true
   },
   "outputs": [
    {
     "name": "stdout",
     "output_type": "stream",
     "text": [
      "[[1. 0. 0. 0.]\n",
      " [0. 1. 0. 0.]\n",
      " [0. 0. 1. 0.]\n",
      " [0. 0. 0. 1.]]\n"
     ]
    }
   ],
   "source": [
    "10#Créer une matrice identité de 4 lignes 4 colonnes\n",
    "matrice_identite = np.eye(4)\n",
    "print(matrice_identite)"
   ]
  },
  {
   "cell_type": "code",
   "execution_count": 51,
   "id": "086ea0b8-581e-4203-bf45-f8348277de02",
   "metadata": {
    "scrolled": true
   },
   "outputs": [
    {
     "name": "stdout",
     "output_type": "stream",
     "text": [
      "[[ 0.59947049 -0.26864032 -0.06055051]\n",
      " [-0.29958067 -0.17105468  1.01144186]\n",
      " [ 1.38897112 -1.37188202 -0.27705574]]\n"
     ]
    }
   ],
   "source": [
    "11#Tableau rempli de valeurs aléatoires normales centrées en zéro\n",
    "tableau_valeur = np.random.normal(0, 1, (3, 3))\n",
    "print(tableau_valeur)"
   ]
  },
  {
   "cell_type": "code",
   "execution_count": 118,
   "id": "e4f7cea9-b135-48e4-9da8-f2b70e64a60e",
   "metadata": {
    "scrolled": true
   },
   "outputs": [
    {
     "name": "stdout",
     "output_type": "stream",
     "text": [
      "[ 1  8  2  6  4 10  8  2  9  5  9  4  8  6  7  8  1  4  2  3]\n"
     ]
    }
   ],
   "source": [
    "12#Créer un tableau rempli de 20 valeurs aléatoires entières comprises entre 1 et 10\n",
    "tableau_entiers_aleatoires = np.random.randint(1, 11, 20)\n",
    "transformer = tableau_entiers_aleatoires\n",
    "print(transformer )"
   ]
  },
  {
   "cell_type": "code",
   "execution_count": 119,
   "id": "389cce91-0bf9-4813-b8c4-37c28e24d3b9",
   "metadata": {
    "scrolled": true
   },
   "outputs": [
    {
     "name": "stdout",
     "output_type": "stream",
     "text": [
      "[[ 1  8  2  6  4]\n",
      " [10  8  2  9  5]\n",
      " [ 9  4  8  6  7]\n",
      " [ 8  1  4  2  3]]\n"
     ]
    }
   ],
   "source": [
    "13#Transformer le tableau précédent en matrice de 4 lignes et 5 colonnes\n",
    "T = transformer.reshape(4, 5)\n",
    "print(T)"
   ]
  },
  {
   "cell_type": "code",
   "execution_count": 48,
   "id": "de9ec298-e64c-4797-82b1-320e7eac59cb",
   "metadata": {
    "scrolled": true
   },
   "outputs": [
    {
     "name": "stdout",
     "output_type": "stream",
     "text": [
      "[0.   0.25 0.5  0.75 1.  ]\n"
     ]
    }
   ],
   "source": [
    "14#Créer un tableau de 5 éléments compris entre 0 et 1 avec une amplitude égale\n",
    "tableau_amplitude_egale = np.linspace(0, 1, 5)\n",
    "print(tableau_amplitude_egale)"
   ]
  },
  {
   "cell_type": "code",
   "execution_count": 59,
   "id": "3f4a9198-40a3-4e2d-bb86-4a75d3a903ae",
   "metadata": {
    "scrolled": true
   },
   "outputs": [
    {
     "name": "stdout",
     "output_type": "stream",
     "text": [
      "[0.   0.25 0.5  0.75 1.  ]\n"
     ]
    }
   ],
   "source": [
    "#Chercher a comprendre\n",
    "tableau_amplitude_egale =  np.arange(0, 1.2, 0.25)\n",
    "print(tableau_amplitude_egale)"
   ]
  },
  {
   "cell_type": "code",
   "execution_count": null,
   "id": "0172780b-8199-4a3c-88bb-b4139884bbd9",
   "metadata": {},
   "outputs": [],
   "source": []
  },
  {
   "cell_type": "markdown",
   "id": "c3517fa3-6d72-4ce5-aa9a-d7e25d680c5e",
   "metadata": {},
   "source": [
    "Exercice 2 : les attributs d'un tableau numpy"
   ]
  },
  {
   "cell_type": "code",
   "execution_count": 62,
   "id": "7b4c1b59-ad1b-4dce-9287-4bef6c20240d",
   "metadata": {
    "scrolled": true
   },
   "outputs": [
    {
     "data": {
      "text/plain": [
       "(3, 3)"
      ]
     },
     "execution_count": 62,
     "metadata": {},
     "output_type": "execute_result"
    }
   ],
   "source": [
    "#1. Afficher le nombre de lignes et de colonnes\n",
    "a = np.array([[1,2,3],[4,5,6],[7,8,9]])\n",
    "a.shape"
   ]
  },
  {
   "cell_type": "code",
   "execution_count": 71,
   "id": "c8648810-1e2f-4747-ad84-71003ee3b199",
   "metadata": {
    "scrolled": true
   },
   "outputs": [
    {
     "name": "stdout",
     "output_type": "stream",
     "text": [
      "2\n"
     ]
    }
   ],
   "source": [
    "#2. Afficher la dimension de mon tableau\n",
    "dimension = a.ndim\n",
    "print(dimension)"
   ]
  },
  {
   "cell_type": "code",
   "execution_count": 70,
   "id": "8d10b6b3-6bbf-419a-9bb4-6f4e0b3aeabf",
   "metadata": {
    "scrolled": true
   },
   "outputs": [
    {
     "name": "stdout",
     "output_type": "stream",
     "text": [
      "9\n"
     ]
    }
   ],
   "source": [
    "#3. Afficher le nombre d'élément de mon tableau\n",
    "nombre_elements = a.size\n",
    "print(nombre_elements)"
   ]
  },
  {
   "cell_type": "code",
   "execution_count": 72,
   "id": "244383fa-50a1-4fc2-a4b4-2f46e51bdc1b",
   "metadata": {},
   "outputs": [
    {
     "name": "stdout",
     "output_type": "stream",
     "text": [
      "int64\n"
     ]
    }
   ],
   "source": [
    "#4. Afficher le type des éléments du tableau\n",
    "type_elements = a.dtype\n",
    "print(type_elements)"
   ]
  },
  {
   "cell_type": "markdown",
   "id": "7666d387-a5f9-47b1-8a43-c806b162c0b9",
   "metadata": {},
   "source": [
    "Exercice 3 : Indexing, slicing, subsetting, masking"
   ]
  },
  {
   "cell_type": "code",
   "execution_count": 73,
   "id": "976d1dfe-d084-4a46-9db0-2066c49a505d",
   "metadata": {},
   "outputs": [],
   "source": [
    "a = np.array([[1,2,3],[4,5,6],[7,8,9]])"
   ]
  },
  {
   "cell_type": "code",
   "execution_count": 82,
   "id": "f277a96e-97fb-4eb5-87a4-679faf31d594",
   "metadata": {
    "scrolled": true
   },
   "outputs": [
    {
     "name": "stdout",
     "output_type": "stream",
     "text": [
      "5\n"
     ]
    }
   ],
   "source": [
    "#1. afficher la valeur 5 qui est dans le tableau\n",
    "print(a[1, 1])"
   ]
  },
  {
   "cell_type": "code",
   "execution_count": 86,
   "id": "955cdb3e-c656-47f1-ab32-6f2a10e77669",
   "metadata": {
    "scrolled": true
   },
   "outputs": [
    {
     "name": "stdout",
     "output_type": "stream",
     "text": [
      "[[1 2 3]\n",
      " [4 0 6]\n",
      " [7 8 9]]\n"
     ]
    }
   ],
   "source": [
    "#2. Remplacer le 5 qui est dans le tableau par 0\n",
    "a[1, 1] = 0\n",
    "print(a)"
   ]
  },
  {
   "cell_type": "code",
   "execution_count": 91,
   "id": "80644f31-29db-4497-bcc0-f58a0f7cc1ba",
   "metadata": {
    "scrolled": true
   },
   "outputs": [
    {
     "name": "stdout",
     "output_type": "stream",
     "text": [
      "[3 6 9]\n"
     ]
    }
   ],
   "source": [
    "#3. afficher les chiffres 3, 6 et 9 du tableau\n",
    "print(a[0:3, 2])"
   ]
  },
  {
   "cell_type": "code",
   "execution_count": 96,
   "id": "f919e0c2-e14d-415a-b510-e633065ac447",
   "metadata": {
    "scrolled": true
   },
   "outputs": [
    {
     "name": "stdout",
     "output_type": "stream",
     "text": [
      "[[5 1 9]\n",
      " [8 7 7]\n",
      " [1 7 0]\n",
      " [5 1 1]]\n"
     ]
    }
   ],
   "source": [
    "#4. créer un tableau de 4 lignes et 3 colonnes rempli de 12 nombres entiers aléatoires compris entre 0 et 9\n",
    "tableau_entiers_aleatoires = np.random.randint(0, 10, 12)\n",
    "tableau = tableau_entiers_aleatoires.reshape(4, 3)\n",
    "print(tableau)"
   ]
  },
  {
   "cell_type": "code",
   "execution_count": 131,
   "id": "ef7d1af8-54f0-4dfa-8f96-c744b4c0e7b6",
   "metadata": {
    "scrolled": true
   },
   "outputs": [
    {
     "name": "stdout",
     "output_type": "stream",
     "text": [
      "[[5 3 7]\n",
      " [5 4 0]\n",
      " [9 2 8]\n",
      " [7 6 4]]\n"
     ]
    }
   ],
   "source": [
    "#4. créer un tableau de 4 lignes et 3 colonnes rempli de 12 nombres entiers aléatoires compris entre 0 et 9\n",
    "tableau3 = np.random.randint(0, 10, size=(4, 3))\n",
    "b=tableau3\n",
    "print(tableau3)"
   ]
  },
  {
   "cell_type": "code",
   "execution_count": 133,
   "id": "2b3ee2e4-27c8-404c-994a-503f2a9e6ccf",
   "metadata": {
    "scrolled": true
   },
   "outputs": [
    {
     "name": "stdout",
     "output_type": "stream",
     "text": [
      "True\n"
     ]
    }
   ],
   "source": [
    "#5.Vérifier qu’il y a des nombres inférieur à 5\n",
    "resultat = np.any(b<5)\n",
    "print(resultat)"
   ]
  },
  {
   "cell_type": "code",
   "execution_count": 134,
   "id": "6827f63d-32f6-471f-a7fd-4da4eba7790e",
   "metadata": {
    "scrolled": true
   },
   "outputs": [
    {
     "name": "stdout",
     "output_type": "stream",
     "text": [
      "[[5 0 7]\n",
      " [5 0 0]\n",
      " [9 0 8]\n",
      " [7 6 0]]\n"
     ]
    }
   ],
   "source": [
    "#6. Remplacer les nombres inférieurs à 5 par 0\n",
    "b[b < 5] = 0\n",
    "print(b)"
   ]
  },
  {
   "cell_type": "markdown",
   "id": "d95b4278-b54b-4a5f-a8c0-a0fb15cc4425",
   "metadata": {},
   "source": [
    "Exercice 4 :"
   ]
  },
  {
   "cell_type": "code",
   "execution_count": 142,
   "id": "c94d7cf6-d38f-4283-be5b-b5953ca548c4",
   "metadata": {
    "scrolled": true
   },
   "outputs": [
    {
     "name": "stdout",
     "output_type": "stream",
     "text": [
      "[[5 1 2]\n",
      " [8 1 3]\n",
      " [8 4 2]\n",
      " [3 1 6]]\n"
     ]
    }
   ],
   "source": [
    "#1. Créer un tableau de 4 lignes et 3 colonnes rempli de 11 nombres entiers aléatoires compris entre 0 et 9\n",
    "tableau3 = np.random.randint(0, 10, size=(4, 3))\n",
    "print(tableau3)"
   ]
  },
  {
   "cell_type": "code",
   "execution_count": 144,
   "id": "a39b6f9a-2f46-462d-af2e-c39dc90bdf26",
   "metadata": {
    "scrolled": true
   },
   "outputs": [
    {
     "name": "stdout",
     "output_type": "stream",
     "text": [
      "int64\n"
     ]
    }
   ],
   "source": [
    "#2. Quel est le type des éléments du tableau ?\n",
    "type_des_éléments=tableau3.dtype\n",
    "print(type_des_éléments)"
   ]
  },
  {
   "cell_type": "code",
   "execution_count": 145,
   "id": "f4ab451e-96e0-4ac4-be7d-a9f6959354b8",
   "metadata": {
    "scrolled": true
   },
   "outputs": [
    {
     "name": "stdout",
     "output_type": "stream",
     "text": [
      "[[5. 1. 2.]\n",
      " [8. 1. 3.]\n",
      " [8. 4. 2.]\n",
      " [3. 1. 6.]]\n"
     ]
    }
   ],
   "source": [
    "#3. Changer de type des éléments du tableau en float32\n",
    "tableau = tableau3.astype(np.float32)\n",
    "print(tableau)"
   ]
  },
  {
   "cell_type": "code",
   "execution_count": 146,
   "id": "51266e6d-ff4e-4034-ba33-eca51a8a7f53",
   "metadata": {},
   "outputs": [
    {
     "name": "stdout",
     "output_type": "stream",
     "text": [
      "[5. 1. 2. 8. 1. 3. 8. 4. 2. 3. 1. 6. 3.]\n"
     ]
    }
   ],
   "source": [
    "#4. Ajouter le chiffre 3 à la fin du tableau à une dimension\n",
    "tableau8= np.append(tableau, 3)\n",
    "print(tableau8)"
   ]
  },
  {
   "cell_type": "code",
   "execution_count": 150,
   "id": "47d8f283-004a-42eb-b8cf-1c4a34e21b11",
   "metadata": {
    "scrolled": true
   },
   "outputs": [
    {
     "name": "stdout",
     "output_type": "stream",
     "text": [
      "[[5. 1. 2. 8.]\n",
      " [1. 3. 8. 4.]\n",
      " [2. 3. 1. 6.]]\n"
     ]
    }
   ],
   "source": [
    "#5. Transformer le tableau en matrice dénommée “a” de 3 lignes et 4 colonnes\n",
    "a = np.delete(tableau8, -1)\n",
    "a= a.reshape(3, 4)\n",
    "print(a)"
   ]
  },
  {
   "cell_type": "code",
   "execution_count": 156,
   "id": "344c7fcf-5d96-49f7-aaf3-f3cfc32907f7",
   "metadata": {
    "scrolled": true
   },
   "outputs": [
    {
     "name": "stdout",
     "output_type": "stream",
     "text": [
      "[[ 3  5 12 10]\n",
      " [ 1  5  8 11]\n",
      " [ 6  2  8 11]]\n"
     ]
    }
   ],
   "source": [
    "#6. Créer une matrice dénommée “b” de 3 lignes et 4 colonnes remplie de série d'entiers successifs allant de 1 à 12 inclus\n",
    "b = np.random.randint(1, 13, size=(3, 4))\n",
    "print(b)"
   ]
  },
  {
   "cell_type": "code",
   "execution_count": 157,
   "id": "42cef268-29bb-4b9b-a0d2-08875f22d84d",
   "metadata": {
    "scrolled": true
   },
   "outputs": [
    {
     "name": "stdout",
     "output_type": "stream",
     "text": [
      "[[ 5.  1.  2.  8.  3.  5. 12. 10.]\n",
      " [ 1.  3.  8.  4.  1.  5.  8. 11.]\n",
      " [ 2.  3.  1.  6.  6.  2.  8. 11.]]\n"
     ]
    }
   ],
   "source": [
    "#7. Créer une matrice dénommée “c” qui est la concaténation des deux tableaux “a” et “b” dans le sens horizontale\n",
    "c = np.hstack((a, b))\n",
    "print(c)"
   ]
  },
  {
   "cell_type": "code",
   "execution_count": 159,
   "id": "e51e9a18-93f7-4e41-b223-05edb29e6b58",
   "metadata": {
    "scrolled": true
   },
   "outputs": [
    {
     "name": "stdout",
     "output_type": "stream",
     "text": [
      "[[ 5.  1.  2.  8.]\n",
      " [ 1.  3.  8.  4.]\n",
      " [ 2.  3.  1.  6.]\n",
      " [ 3.  5. 12. 10.]\n",
      " [ 1.  5.  8. 11.]\n",
      " [ 6.  2.  8. 11.]]\n"
     ]
    }
   ],
   "source": [
    "#8. Créer une matrice dénommée “d” qui est la concaténation des deux tableaux “a” et “b” dans le sens vertical\n",
    "d= np.vstack((a, b))\n",
    "print(c)"
   ]
  },
  {
   "cell_type": "code",
   "execution_count": 160,
   "id": "b59d9e13-12bd-4f7e-97ca-4d8f07730c82",
   "metadata": {},
   "outputs": [
    {
     "name": "stdout",
     "output_type": "stream",
     "text": [
      "[ 5.  1.  2.  8.  1.  3.  8.  4.  2.  3.  1.  6.  3.  5. 12. 10.  1.  5.\n",
      "  8. 11.  6.  2.  8. 11.]\n"
     ]
    }
   ],
   "source": [
    "#9. Aplatir un tableau “d”\n",
    "aplat = d.ravel()\n",
    "print(aplat)"
   ]
  },
  {
   "cell_type": "code",
   "execution_count": 161,
   "id": "60bdc14a-3986-4475-b2c1-081a9202f522",
   "metadata": {
    "scrolled": true
   },
   "outputs": [
    {
     "name": "stdout",
     "output_type": "stream",
     "text": [
      "[ 5.  1.  2.  8.  1.  3.  8.  4.  2.  3.  1.  6.  3.  5. 12. 10.  1.  5.\n",
      "  8. 11.  6.  2.  8.]\n"
     ]
    }
   ],
   "source": [
    "#10.Supprimer dernier élément du tableau\n",
    "e = np.delete(aplat, 23)\n",
    "print(e)"
   ]
  },
  {
   "cell_type": "markdown",
   "id": "8ac2fecc-4d4d-4f6e-b89d-66de238f2128",
   "metadata": {},
   "source": [
    "Exercice : Statistique avec numpy"
   ]
  },
  {
   "cell_type": "code",
   "execution_count": 162,
   "id": "1a9aa9ee-d2f0-4e01-87da-265fed5a4457",
   "metadata": {},
   "outputs": [],
   "source": [
    "a = np.array([[1,2,3],[4,5,6],[7,8,9]])"
   ]
  },
  {
   "cell_type": "code",
   "execution_count": 165,
   "id": "aad97123-16ae-4ba4-bd22-7f03085317b2",
   "metadata": {},
   "outputs": [
    {
     "name": "stdout",
     "output_type": "stream",
     "text": [
      "45\n"
     ]
    }
   ],
   "source": [
    "#1. Afficher la somme des éléments du tableau\n",
    "somme = np.sum(a)\n",
    "print(somme)"
   ]
  },
  {
   "cell_type": "code",
   "execution_count": 166,
   "id": "4ae72153-9de8-4db1-b86e-1d6e54bb4177",
   "metadata": {
    "scrolled": true
   },
   "outputs": [
    {
     "name": "stdout",
     "output_type": "stream",
     "text": [
      "[12 15 18]\n"
     ]
    }
   ],
   "source": [
    "#2. Afficher la somme des éléments du tableau par colonne\n",
    "somme_par_colonne = np.sum(a, axis=0)\n",
    "print(somme_par_colonne)"
   ]
  },
  {
   "cell_type": "code",
   "execution_count": 167,
   "id": "c965c037-802b-423a-87f6-62747240fc11",
   "metadata": {},
   "outputs": [
    {
     "name": "stdout",
     "output_type": "stream",
     "text": [
      "[ 6 15 24]\n"
     ]
    }
   ],
   "source": [
    "#3. Afficher la somme des éléments du tableau par ligne\n",
    "somme_par_ligne = np.sum(a, axis=1)\n",
    "print(somme_par_ligne)"
   ]
  },
  {
   "cell_type": "code",
   "execution_count": 168,
   "id": "b6b662e7-0413-4946-a65e-7004ae485c34",
   "metadata": {
    "scrolled": true
   },
   "outputs": [
    {
     "name": "stdout",
     "output_type": "stream",
     "text": [
      "[ 28  80 162]\n"
     ]
    }
   ],
   "source": [
    "#4. Afficher le produit des éléments du tableau par colonne\n",
    "prod_par_ligne = np.prod(a, axis=0)\n",
    "print(prod_par_ligne)"
   ]
  },
  {
   "cell_type": "code",
   "execution_count": 169,
   "id": "71e33b6e-ccb8-419c-ad4b-e5c891d165c3",
   "metadata": {},
   "outputs": [
    {
     "name": "stdout",
     "output_type": "stream",
     "text": [
      "1\n"
     ]
    }
   ],
   "source": [
    "#5. Afficher le minimum du tableau\n",
    "minimum = np.min(a)\n",
    "print(minimum)"
   ]
  },
  {
   "cell_type": "code",
   "execution_count": 170,
   "id": "c7a14454-d1e1-4110-9403-c304846c5eeb",
   "metadata": {
    "scrolled": true
   },
   "outputs": [
    {
     "name": "stdout",
     "output_type": "stream",
     "text": [
      "9\n"
     ]
    }
   ],
   "source": [
    "#6. Afficher le maximum des éléments du tableau\n",
    "maximun = np.max(a)\n",
    "print(maximun)"
   ]
  },
  {
   "cell_type": "code",
   "execution_count": 172,
   "id": "f8555233-2d97-4a0e-b25d-2d1074c035de",
   "metadata": {},
   "outputs": [
    {
     "name": "stdout",
     "output_type": "stream",
     "text": [
      "5.0\n"
     ]
    }
   ],
   "source": [
    "#7. Afficher la moyenne des éléments du tableau\n",
    "moyenne = np.mean(a)\n",
    "print(moyenne)"
   ]
  },
  {
   "cell_type": "code",
   "execution_count": 173,
   "id": "5783d405-a12c-40e0-843d-90a3c80a1394",
   "metadata": {},
   "outputs": [
    {
     "name": "stdout",
     "output_type": "stream",
     "text": [
      "6.666666666666667\n"
     ]
    }
   ],
   "source": [
    "#8. Afficher la variance des éléments du tableau\n",
    "variance = np.var(a)\n",
    "print(variance)"
   ]
  },
  {
   "cell_type": "code",
   "execution_count": 174,
   "id": "18bfd62b-c9e3-4d39-ba65-677bff9b66fc",
   "metadata": {},
   "outputs": [
    {
     "name": "stdout",
     "output_type": "stream",
     "text": [
      "2.581988897471611\n"
     ]
    }
   ],
   "source": [
    "#9. Afficher l’écart type des éléments du tableau\n",
    "ecart_type = np.std(a)\n",
    "print(ecart_type)"
   ]
  },
  {
   "cell_type": "code",
   "execution_count": null,
   "id": "175c97a3-6b0e-4f49-a478-4279e2654792",
   "metadata": {},
   "outputs": [],
   "source": []
  }
 ],
 "metadata": {
  "kernelspec": {
   "display_name": "Python 3 (ipykernel)",
   "language": "python",
   "name": "python3"
  },
  "language_info": {
   "codemirror_mode": {
    "name": "ipython",
    "version": 3
   },
   "file_extension": ".py",
   "mimetype": "text/x-python",
   "name": "python",
   "nbconvert_exporter": "python",
   "pygments_lexer": "ipython3",
   "version": "3.10.12"
  }
 },
 "nbformat": 4,
 "nbformat_minor": 5
}
